{
 "cells": [
  {
   "attachments": {},
   "cell_type": "markdown",
   "metadata": {},
   "source": [
    "![intro](./proj_intro.png)\n",
    "## Proj 5: Object Detection+Object-level Scene Recognition \n",
    "Since the computational cost of training an entire scene recognition deep learning network is too high for most students, we intend to utilize open-source object detection APIs (mmdetection here) to first detect the common objects in the scene images. Based on the semantic information derived from object detection, a narrow network or machine learning methods can be adopted to further classify the scene."
   ]
  },
  {
   "attachments": {},
   "cell_type": "markdown",
   "metadata": {},
   "source": [
    "### Object Detection API: [MMDetection](https://github.com/open-mmlab/mmdetection)\n",
    "![mmdetectuib](./mmdet-logo.png)\n",
    "1. Get start following [official document](https://mmdetection.readthedocs.io/zh_CN/latest/get_started.html)\n",
    "   - pytorch >= 1.6.0 (cpuonly if no nvidia GPU card in your device.)\n",
    "   - mmcv >= 2.0.0 \n",
    "      ```\n",
    "      pip install -U openmim \n",
    "      pip install chardet (Optional: if encounter \"No module named 'chardet'\")\n",
    "      mim install mmengine \n",
    "      mim install \"mmcv>=2.0.0\"\n",
    "      ```\n",
    "   - mmdetection\n",
    "      ```\n",
    "      min install mmdet\n",
    "      ```\n",
    "   - Verify the installation [link](https://mmdetection.readthedocs.io/en/latest/get_started.html#verify-the-installation)\n",
    "2. Inference Code with [RTMDet](https://arxiv.org/abs/2212.07784) (All object detection methods in MMDet you can try):"
   ]
  },
  {
   "cell_type": "code",
   "execution_count": null,
   "metadata": {},
   "outputs": [
    {
     "ename": "",
     "evalue": "",
     "output_type": "error",
     "traceback": [
      "\u001b[1;31m无法启动 Kernel。 \n",
      "\u001b[1;31mAttributeError: module 'pkgutil' has no attribute 'ImpImporter'. Did you mean: 'zipimporter'?. \n",
      "\u001b[1;31m有关更多详细信息，请查看 Jupyter <a href='command:jupyter.viewOutput'>log</a>。"
     ]
    }
   ],
   "source": [
    "import mmcv\n",
    "from mmdet.apis import init_detector, inference_detector\n",
    "\n",
    "config_file = '../data/mmdet/rtmdet_tiny_8xb32-300e_coco.py'\n",
    "checkpoint_file = '../data/mmdet/rtmdet_tiny_8xb32-300e_coco_20220902_112414-78e30dcc.pth'\n",
    "img = mmcv.imread('../data/demo.jpg', channel_order='rgb')\n",
    "model = init_detector(config_file, checkpoint_file, device='cpu')  # or device='cuda:0'\n",
    "result = inference_detector(model, img)\n",
    "print(result)"
   ]
  },
  {
   "attachments": {},
   "cell_type": "markdown",
   "metadata": {},
   "source": [
    "## Start the main body of this project!\n",
    "\n",
    "### Collecting your scene datasets and inferencing them with Object Detection APIs."
   ]
  },
  {
   "cell_type": "code",
   "execution_count": 5,
   "metadata": {},
   "outputs": [],
   "source": [
    "# Your Code here"
   ]
  }
 ],
 "metadata": {
  "kernelspec": {
   "display_name": "base",
   "language": "python",
   "name": "python3"
  },
  "language_info": {
   "codemirror_mode": {
    "name": "ipython",
    "version": 3
   },
   "file_extension": ".py",
   "mimetype": "text/x-python",
   "name": "python",
   "nbconvert_exporter": "python",
   "pygments_lexer": "ipython3",
   "version": "3.12.10"
  },
  "orig_nbformat": 4
 },
 "nbformat": 4,
 "nbformat_minor": 2
}
